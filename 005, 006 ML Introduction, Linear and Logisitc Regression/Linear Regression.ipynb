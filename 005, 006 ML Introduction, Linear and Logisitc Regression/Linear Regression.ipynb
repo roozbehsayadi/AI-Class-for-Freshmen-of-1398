{
 "cells": [
  {
   "cell_type": "code",
   "execution_count": 1,
   "metadata": {},
   "outputs": [],
   "source": [
    "# import important libraries\n",
    "\n",
    "import numpy as np\n",
    "import matplotlib.pyplot as plt"
   ]
  },
  {
   "cell_type": "code",
   "execution_count": 2,
   "metadata": {},
   "outputs": [],
   "source": [
    "def mul(x, y):\n",
    "    return [x[i] * y[i] for i in range(len(x))]"
   ]
  },
  {
   "cell_type": "code",
   "execution_count": 107,
   "metadata": {},
   "outputs": [],
   "source": [
    "from sklearn.datasets import load_boston\n",
    "\n",
    "data = load_boston(return_X_y=True)\n",
    "x, y = data[0][:, 5][:100], data[1][:100]"
   ]
  },
  {
   "cell_type": "code",
   "execution_count": 108,
   "metadata": {
    "scrolled": true
   },
   "outputs": [
    {
     "data": {
      "text/plain": [
       "((100,), (100,))"
      ]
     },
     "execution_count": 108,
     "metadata": {},
     "output_type": "execute_result"
    }
   ],
   "source": [
    "x.shape, y.shape"
   ]
  },
  {
   "cell_type": "code",
   "execution_count": 109,
   "metadata": {},
   "outputs": [
    {
     "data": {
      "image/png": "[encoded data removed]",
      "text/plain": [
       "<Figure size 432x288 with 1 Axes>"
      ]
     },
     "metadata": {
      "needs_background": "light"
     },
     "output_type": "display_data"
    }
   ],
   "source": [
    "plt.scatter(x, y);"
   ]
  },
  {
   "cell_type": "markdown",
   "metadata": {},
   "source": [
    "# Notes\n",
    "\n",
    "### What do we want to do? \n",
    "\n",
    "Find the best line matching all the points. In this case, we are dealing with only **one independent** variable so we have a straight line.\n",
    "\n",
    "We all know the formula for a straight line:\n",
    "$$\n",
    "Y = mX + b\n",
    "$$\n",
    "\n",
    "Y: The dependent variable or what we want to predict.\n",
    "\n",
    "X: The independent variable. Our feature, our parameter, our column.\n",
    "\n",
    "<img src=\"https://upload.wikimedia.org/wikipedia/commons/thumb/d/d4/Karl_Marx_001.jpg/800px-Karl_Marx_001.jpg\" alt=\"Karl Marx, whose variety of communist theory is known as Marxism\" style=\"width: 300px;\"/>\n",
    "\n",
    "m: The slope of the line or how _x_ translates to _y_.\n",
    "\n",
    "b: The bias of the line or where the line intercepts the _y-axis_.\n",
    "\n",
    "**Our goal:** Find the best slope and bias to minimize errors in predicting _y_ from _x_.\n",
    "\n",
    "Let's consider this particular formula for _m_:\n",
    "$$\n",
    "m = \\frac{n\\sum XY - \\sum X\\sum Y}{n\\sum X^2 - (\\sum X)^2}\n",
    "$$\n",
    "\n",
    "And for _b_, this formula:\n",
    "$$\n",
    "b = \\bar Y - m\\bar X\n",
    "$$\n",
    "Where $\\bar Y$ and $\\bar X$ are average of Y and X accordingly.\n",
    "\n",
    "We have everything now. Let's code it:"
   ]
  },
  {
   "cell_type": "code",
   "execution_count": 110,
   "metadata": {},
   "outputs": [],
   "source": [
    "def simple_LR(x, y):\n",
    "    assert len(x) == len(y), \"The lengths do not match!\"\n",
    "    \n",
    "    n = len(x)\n",
    "    \n",
    "    # the formula has four parts\n",
    "    one   = n * sum(np.multiply(x, y))\n",
    "    two   = sum(x) * sum(y)\n",
    "    three = n * sum(np.multiply(x, x))\n",
    "    four  = sum(x) * sum(x)\n",
    "    \n",
    "    m = (one - two) / (three - four)\n",
    "    b = np.mean(y) - m * np.mean(x)\n",
    "    \n",
    "    return m, b"
   ]
  },
  {
   "cell_type": "code",
   "execution_count": 111,
   "metadata": {},
   "outputs": [],
   "source": [
    "m, b = simple_LR(x, y)"
   ]
  },
  {
   "cell_type": "code",
   "execution_count": 112,
   "metadata": {},
   "outputs": [
    {
     "data": {
      "text/plain": [
       "(10.223463401699288, -41.42826246618807)"
      ]
     },
     "execution_count": 112,
     "metadata": {},
     "output_type": "execute_result"
    }
   ],
   "source": [
    "m, b"
   ]
  },
  {
   "cell_type": "code",
   "execution_count": 113,
   "metadata": {},
   "outputs": [
    {
     "data": {
      "image/png": "[encoded data removed]",
      "text/plain": [
       "<Figure size 432x288 with 1 Axes>"
      ]
     },
     "metadata": {
      "needs_background": "light"
     },
     "output_type": "display_data"
    }
   ],
   "source": [
    "plt.scatter(x, y)\n",
    "y_line = m * x + b\n",
    "plt.plot(x, y_line, color='red');"
   ]
  },
  {
   "cell_type": "code",
   "execution_count": 114,
   "metadata": {},
   "outputs": [],
   "source": [
    "def predict(x_test, m, b):\n",
    "    y_pred = m * x_test + b\n",
    "    return y_pred"
   ]
  },
  {
   "cell_type": "code",
   "execution_count": 115,
   "metadata": {},
   "outputs": [
    {
     "data": {
      "text/plain": [
       "(10.223463401699288, -41.42826246618807)"
      ]
     },
     "execution_count": 115,
     "metadata": {},
     "output_type": "execute_result"
    }
   ],
   "source": [
    "m, b"
   ]
  },
  {
   "cell_type": "code",
   "execution_count": 116,
   "metadata": {},
   "outputs": [
    {
     "name": "stdout",
     "output_type": "stream",
     "text": [
      "The predicted value is: 5213.431926007245\n"
     ]
    }
   ],
   "source": [
    "x_test = 514\n",
    "print(\"The predicted value is: \" + str(predict(x_test, m, b)))"
   ]
  },
  {
   "cell_type": "code",
   "execution_count": 119,
   "metadata": {},
   "outputs": [],
   "source": [
    "x_test = x[80:]"
   ]
  },
  {
   "cell_type": "code",
   "execution_count": 120,
   "metadata": {},
   "outputs": [
    {
     "data": {
      "image/png": "[encoded data removed]",
      "text/plain": [
       "<Figure size 432x288 with 1 Axes>"
      ]
     },
     "metadata": {
      "needs_background": "light"
     },
     "output_type": "display_data"
    }
   ],
   "source": [
    "plt.scatter(x_test, y[80:])\n",
    "y_line = m * x_test + b\n",
    "plt.plot(x_test, y_line, color='red');"
   ]
  },
  {
   "cell_type": "markdown",
   "metadata": {},
   "source": [
    "### Pretty easy right? Let's make it even easier by using scikit-learn library!"
   ]
  },
  {
   "cell_type": "code",
   "execution_count": 121,
   "metadata": {},
   "outputs": [],
   "source": [
    "from sklearn.linear_model import LinearRegression"
   ]
  },
  {
   "cell_type": "code",
   "execution_count": 139,
   "metadata": {},
   "outputs": [],
   "source": [
    "# making a bigger dataset\n",
    "\n",
    "x, y = data[0][:, 12], data[1]"
   ]
  },
  {
   "cell_type": "code",
   "execution_count": 140,
   "metadata": {},
   "outputs": [
    {
     "data": {
      "image/png": "[encoded data removed]",
      "text/plain": [
       "<Figure size 432x288 with 1 Axes>"
      ]
     },
     "metadata": {
      "needs_background": "light"
     },
     "output_type": "display_data"
    }
   ],
   "source": [
    "plt.scatter(x, y);"
   ]
  },
  {
   "cell_type": "code",
   "execution_count": 141,
   "metadata": {},
   "outputs": [],
   "source": [
    "# let's split x and make train and test from that\n",
    "\n",
    "boundary = int(len(x) * 0.8)\n",
    "x_train, x_test = x[:boundary], x[boundary:]\n",
    "y_train = y[:boundary]"
   ]
  },
  {
   "cell_type": "code",
   "execution_count": 154,
   "metadata": {
    "scrolled": true
   },
   "outputs": [
    {
     "data": {
      "text/plain": [
       "((404, 1), (404,))"
      ]
     },
     "execution_count": 154,
     "metadata": {},
     "output_type": "execute_result"
    }
   ],
   "source": [
    "x_train.reshape(-1, 1).shape, y_train.shape"
   ]
  },
  {
   "cell_type": "code",
   "execution_count": 158,
   "metadata": {
    "scrolled": true
   },
   "outputs": [
    {
     "data": {
      "text/plain": [
       "(array([-0.96173416]), 35.09618640418044)"
      ]
     },
     "execution_count": 158,
     "metadata": {},
     "output_type": "execute_result"
    }
   ],
   "source": [
    "reg = LinearRegression()\n",
    "\n",
    "reg.fit(x_train.reshape(-1, 1), y_train)\n",
    "\n",
    "m = reg.coef_\n",
    "b = reg.intercept_\n",
    "\n",
    "m, b"
   ]
  },
  {
   "cell_type": "code",
   "execution_count": 161,
   "metadata": {},
   "outputs": [],
   "source": [
    "y_pred = reg.predict(x_test.reshape(-1, 1))  # get the line"
   ]
  },
  {
   "cell_type": "code",
   "execution_count": 162,
   "metadata": {},
   "outputs": [
    {
     "data": {
      "image/png": "[encoded data removed]",
      "text/plain": [
       "<Figure size 432x288 with 1 Axes>"
      ]
     },
     "metadata": {
      "needs_background": "light"
     },
     "output_type": "display_data"
    }
   ],
   "source": [
    "plt.scatter(x_test, y[boundary:]);  # test it against actualy answers\n",
    "plt.plot(x_test, y_pred, color='red');"
   ]
  },
  {
   "cell_type": "markdown",
   "metadata": {},
   "source": [
    "It doesn't end here. Typically, the procedure is that we first define a line, and then try to improve it using a method. For exmaple, we first define our $m$ and $b$ to be both 0s and then add to or subtract from them to make a new line and continue doing that until we choose not to continue.\n",
    "\n",
    "For simple linear regression we can just not do that. For this, we can just **find** the best line. I'll tell you why.\n",
    "\n",
    "To do this, we have to define a function that we want to minimize or maximize. Here, we use **sum of square of differences** as our **error** function which we want to minimize.\n",
    "\n",
    "Assuming we already know our **best line**, say $\\hat Y = pX + q$, we define $Error$ as follows:\n",
    "$$\n",
    "Error = \\sum (\\hat Y - Y)^2\n",
    "$$\n",
    "\n",
    "Y is the target in our data by the way. The actual target value.\n",
    "\n",
    "What do we do when we want to minimize something? YES! **Differentiation**.\n",
    "\n",
    "Now because of the fact that our error is second-degree polynomial, it only has **one** minimum and we can just **find** that minimum using differantiation."
   ]
  },
  {
   "cell_type": "markdown",
   "metadata": {},
   "source": [
    "For each variable that we want to optimize ($p$ and $q$ here), we have to find the partial derivative of $Error$ concerning the variable, solve dertivate = 0, and find the **best** value for the variable.\n",
    "\n",
    "For example for $p$, we want to find this:\n",
    "$$\n",
    "\\frac {\\partial Error}{\\partial p} = \\frac {\\partial}{\\partial p} \\sum (\\hat Y - Y)^2\n",
    "$$\n",
    "Or equivalently:\n",
    "$$\n",
    "\\frac {\\partial Error}{\\partial p} = \\frac {\\partial}{\\partial p} \\sum (Y - pX - q)^2\n",
    "$$\n",
    "\n",
    "**Exercise:** How to calculate this? That's your job folks. Here's everything you need:\n",
    "\n",
    "https://medium.com/towards-artificial-intelligence/calculating-simple-linear-regression-and-linear-best-fit-an-in-depth-tutorial-with-math-and-python-804a0cb23660#f6e3\n",
    "\n",
    "After understanding what is happening, do the same derivation but this time consider $q$.\n",
    "\n",
    "There you go! We reach the formula given earlier."
   ]
  },
  {
   "cell_type": "code",
   "execution_count": null,
   "metadata": {},
   "outputs": [],
   "source": []
  }
 ],
 "metadata": {
  "kernelspec": {
   "display_name": "Python 3",
   "language": "python",
   "name": "python3"
  },
  "language_info": {
   "codemirror_mode": {
    "name": "ipython",
    "version": 3
   },
   "file_extension": ".py",
   "mimetype": "text/x-python",
   "name": "python",
   "nbconvert_exporter": "python",
   "pygments_lexer": "ipython3",
   "version": "3.8.2"
  }
 },
 "nbformat": 4,
 "nbformat_minor": 4
}
