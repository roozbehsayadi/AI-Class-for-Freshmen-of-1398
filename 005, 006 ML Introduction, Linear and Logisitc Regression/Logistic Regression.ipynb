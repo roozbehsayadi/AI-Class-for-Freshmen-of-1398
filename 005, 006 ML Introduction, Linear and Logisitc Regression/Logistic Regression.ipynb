{
 "cells": [
  {
   "cell_type": "code",
   "execution_count": 1,
   "metadata": {},
   "outputs": [],
   "source": [
    "import numpy as np\n",
    "import matplotlib.pyplot as plt\n",
    "import pandas as pd\n",
    "from math import exp"
   ]
  },
  {
   "cell_type": "markdown",
   "metadata": {},
   "source": [
    "# HAHA Logsitics\n",
    "\n",
    "Ok sooo, I just learned linear legression. What the heck is logistic regression and what is the difference.\n",
    "\n",
    "Simply put, linear regression tries to fit **a line** which outputs the predictions as floats.\n",
    "\n",
    "But logistic regression is used for predicting categorical values and classification stuff. Like, is this picture a dog or a cat? What kind of fruit is this?\n",
    "\n",
    "The output is still a float value but we have to round it somehow so that it becomes the categorical value (int).\n",
    "\n",
    "The simplest form of the output would be binary classification. Only two kind of things to predict."
   ]
  },
  {
   "cell_type": "code",
   "execution_count": 103,
   "metadata": {},
   "outputs": [],
   "source": [
    "from sklearn.datasets import load_breast_cancer\n",
    "data = load_breast_cancer(return_X_y=True)\n",
    "x, y = data[0], data[1][:100].reshape(1, -1)\n",
    "x = x[:, 0][:100].reshape(1, -1)"
   ]
  },
  {
   "cell_type": "code",
   "execution_count": 104,
   "metadata": {},
   "outputs": [
    {
     "data": {
      "text/plain": [
       "((1, 100), (1, 100))"
      ]
     },
     "execution_count": 104,
     "metadata": {},
     "output_type": "execute_result"
    }
   ],
   "source": [
    "x.shape, y.shape"
   ]
  },
  {
   "cell_type": "code",
   "execution_count": 105,
   "metadata": {
    "scrolled": false
   },
   "outputs": [
    {
     "data": {
      "image/png": "[encoded data removed]",
      "text/plain": [
       "<Figure size 432x288 with 1 Axes>"
      ]
     },
     "metadata": {
      "needs_background": "light"
     },
     "output_type": "display_data"
    }
   ],
   "source": [
    "plt.scatter(x, y);"
   ]
  },
  {
   "cell_type": "markdown",
   "metadata": {},
   "source": [
    "Looks different right? Because it is meant to be different.\n",
    "\n",
    "What we need now is a function. Not just any function. **The Logistic Function**. Here it is:\n",
    "\n",
    "$$\n",
    "Y = \\frac{1}{1 + e^-X}\n",
    "$$\n",
    "\n",
    "X and Y are not the data.\n",
    "\n",
    "**Note:** This is the simplest form of the logistic function. Check out wikipedia for more information.\n",
    "\n",
    "You might say \"Hold up! You said the prediction values are categorical; Now you're giving me this weird function which I know for sure the output isn't 0 or 1. What's happening?\"\n",
    "\n",
    "To that I will say, \"Patience, child.\"\n",
    "\n",
    "Ok, back to work. Let's see what does this function do to $[-10, 10)$."
   ]
  },
  {
   "cell_type": "code",
   "execution_count": 5,
   "metadata": {},
   "outputs": [],
   "source": [
    "logistic_function = lambda x: 1 / (1 + exp(-x))"
   ]
  },
  {
   "cell_type": "code",
   "execution_count": 102,
   "metadata": {
    "scrolled": false
   },
   "outputs": [
    {
     "data": {
      "image/png": "[encoded data removed]",
      "text/plain": [
       "<Figure size 432x288 with 1 Axes>"
      ]
     },
     "metadata": {
      "needs_background": "light"
     },
     "output_type": "display_data"
    }
   ],
   "source": [
    "temp_x = [i for i in range(-5, 5)]\n",
    "temp_y = [logistic_function(i) for i in temp_x]\n",
    "plt.scatter(temp_x, temp_y);"
   ]
  },
  {
   "cell_type": "markdown",
   "metadata": {},
   "source": [
    "The model that we will be using isn't just this function. There is more.\n",
    "\n",
    "Like linear regression, we define a function to generate output based on the input. We will be using the same $Y = mX + b$ function.\n",
    "\n",
    "After we passed our $X$ to the linear function, we need to calculate the **probability of the input belonging to a class**. Like how near is this output to class 0 or how near is it to class 1?\n",
    "\n",
    "For this, we use the logistic function. $Y$ is passed to the function and an output between $[0, 1]$ is given. Then we determine a limit (usually 0.5) and say, \"If output > 0.5 then it belongs to class 0. Otherwise, it belongs to class 1\".\n",
    "\n",
    "So the completed function would become this:\n",
    "\n",
    "$$\n",
    "p(class = 1) = [(\\frac{1}{1 + e^{-(mX + b)}}) > 0.5] \\\\\n",
    "p(class = 0) = [(\\frac{1}{1 + e^{-(mX + b)}}) < 0.5]\n",
    "$$"
   ]
  },
  {
   "cell_type": "markdown",
   "metadata": {},
   "source": [
    "As in linear regression, we have to define a function that we want to either minimize or maximize and do the \"predict, calculate new (better) coefficients\" again and again until we reach some bottleneck or our model is good enough (i.e. accuracy is higher than the desired value).\n",
    "\n",
    "So now we need to define a cost function. As before, without telling you why, let's consider this function as our $Cost$ function (not $Error$):\n",
    "\n",
    "$$\n",
    "Cost(\\hat Y, Y) = \\begin{cases}\n",
    "-log(\\hat Y), & \\text{if $Y = 1$}.\\\\\n",
    "-log(1 - \\hat Y), & \\text{if $Y = 0$}.\n",
    "\\end{cases}\n",
    "$$\n",
    "\n",
    "**Note:** For the updating and stuff, we delete don't consider the boundary and our $Y$ is the the function mentioned first in the notebook.\n",
    "\n",
    "Like linear, we want to minimize this. Let's simplify this a bit:\n",
    "\n",
    "$$\n",
    "Cost(\\hat Y, Y) = -Y\\log (\\hat Y) - (1 - Y)\\log(1 - \\hat Y)\n",
    "$$\n",
    "\n",
    "**Exercise:** Why this function? YOU should find out why folks."
   ]
  },
  {
   "cell_type": "markdown",
   "metadata": {},
   "source": [
    "This time we can't just **find** the best value to $\\hat Y$ because the fucntion is **non-convex** and we can't just jump to the minimum and each time, we are trying to find the local minima. In each iteration, we add a value to the variables a.k.a **update** the variables until, like in linear, we reach a bottleneck or our model's accuract is good enough.\n",
    "\n",
    "Now there are various methods to solve this unconstrained optimization problem such as the 1st order method **gradient descent** that requires the gradient of the logistic regression cost function, or a 2nd order method such as **Newton’s method** that requires the **gradient** and the **Hessian** of the logistic regression cost function.\n",
    "\n",
    "Here, we want to use **gradient descent** which is defined as follows (for a dummy variable like m):\n",
    "\n",
    "$$\n",
    "m \\mathrel{-}= \\alpha \\frac{\\partial}{\\partial m} Cost(\\hat Y, Y)\n",
    "$$\n",
    "\n",
    "$\\alpha$ is called **learning rate** and it is manually determined at the beginning or the program or at the start of each iteration.\n",
    "\n",
    "For the sake of simplification, we split the derivation into three parts and use the chain rule to calculate the derivation (for variable m):\n",
    "\n",
    "$$\n",
    "\\frac {\\partial Cost}{\\partial m} = \\frac{\\partial Cost}{\\partial \\hat Y} \\ast \\frac{\\partial \\hat Y}{\\partial z} \\ast \\frac{\\partial z}{\\partial m}\n",
    "$$\n",
    "\n",
    "$$\n",
    "\\hat Y = \\frac{1}{1 + e^{-z}}\n",
    "$$\n",
    "\n",
    "$$\n",
    "z = mX + b\n",
    "$$\n",
    "\n",
    "**Exercise:** Calculate the derivation for both $m$ and $b$."
   ]
  },
  {
   "cell_type": "code",
   "execution_count": 106,
   "metadata": {},
   "outputs": [],
   "source": [
    "def sigmoid(z):\n",
    "    return 1 / (1 + np.exp(-z))"
   ]
  },
  {
   "cell_type": "code",
   "execution_count": 107,
   "metadata": {},
   "outputs": [],
   "source": [
    "def predict(m, x, b):\n",
    "    z = m * x + b\n",
    "    yhat = sigmoid(z)\n",
    "    return yhat"
   ]
  },
  {
   "cell_type": "code",
   "execution_count": 108,
   "metadata": {},
   "outputs": [],
   "source": [
    "def cost(yhat, y):\n",
    "    first = -y * np.log(yhat)\n",
    "    second = (y - 1) * np.log(1 - yhat)\n",
    "    return np.sum(first + second)"
   ]
  },
  {
   "cell_type": "code",
   "execution_count": 109,
   "metadata": {},
   "outputs": [],
   "source": [
    "def optimize(m, x, b, y):\n",
    "    n = x.shape[1]\n",
    "    \n",
    "    # prediction\n",
    "    yhat = predict(m, x, b)\n",
    "    predict(m, x, b)\n",
    "    cst = cost(yhat, y) / n\n",
    "    \n",
    "    # gradient descent\n",
    "    dm = np.dot(x, (yhat - y).T) / n\n",
    "    db = np.sum(yhat - y) / n\n",
    "    \n",
    "    return dm, db, cst"
   ]
  },
  {
   "cell_type": "code",
   "execution_count": 110,
   "metadata": {},
   "outputs": [],
   "source": [
    "def model_train(m, x, b, y, alpha=0.01, epochs=10):\n",
    "    costs = []\n",
    "    for i in range(epochs):\n",
    "        dm, db, cost = optimize(m, x, b, y)\n",
    "        \n",
    "        m -= (alpha * dm)\n",
    "        b -= (alpha * db)\n",
    "        \n",
    "        costs.append(cost)\n",
    "        \n",
    "    return m, b, costs"
   ]
  },
  {
   "cell_type": "code",
   "execution_count": 111,
   "metadata": {
    "scrolled": true
   },
   "outputs": [],
   "source": [
    "m, b, costs = model_train(0, x, 0, y)\n",
    "m = m[0][0]\n",
    "b = b"
   ]
  },
  {
   "cell_type": "code",
   "execution_count": 112,
   "metadata": {},
   "outputs": [
    {
     "data": {
      "text/plain": [
       "(-0.061982807651724946,\n",
       " array([[17.99 , 20.57 , 19.69 , 11.42 , 20.29 , 12.45 , 18.25 , 13.71 ,\n",
       "         13.   , 12.46 , 16.02 , 15.78 , 19.17 , 15.85 , 13.73 , 14.54 ,\n",
       "         14.68 , 16.13 , 19.81 , 13.54 , 13.08 ,  9.504, 15.34 , 21.16 ,\n",
       "         16.65 , 17.14 , 14.58 , 18.61 , 15.3  , 17.57 , 18.63 , 11.84 ,\n",
       "         17.02 , 19.27 , 16.13 , 16.74 , 14.25 , 13.03 , 14.99 , 13.48 ,\n",
       "         13.44 , 10.95 , 19.07 , 13.28 , 13.17 , 18.65 ,  8.196, 13.17 ,\n",
       "         12.05 , 13.49 , 11.76 , 13.64 , 11.94 , 18.22 , 15.1  , 11.52 ,\n",
       "         19.21 , 14.71 , 13.05 ,  8.618, 10.17 ,  8.598, 14.25 ,  9.173,\n",
       "         12.68 , 14.78 ,  9.465, 11.31 ,  9.029, 12.78 , 18.94 ,  8.888,\n",
       "         17.2  , 13.8  , 12.31 , 16.07 , 13.53 , 18.05 , 20.18 , 12.86 ,\n",
       "         11.45 , 13.34 , 25.22 , 19.1  , 12.   , 18.46 , 14.48 , 19.02 ,\n",
       "         12.36 , 14.64 , 14.62 , 15.37 , 13.27 , 13.45 , 15.06 , 20.26 ,\n",
       "         12.18 ,  9.787, 11.6  , 14.42 ]]),\n",
       " 0.002117504002833874,\n",
       " [0.6931471805599453,\n",
       "  0.6170704269439884,\n",
       "  0.6016876007425832,\n",
       "  0.5979360498285675,\n",
       "  0.5968940181706813,\n",
       "  0.5965684850475126,\n",
       "  0.5964456506553547,\n",
       "  0.5963822661748759,\n",
       "  0.5963366646423666,\n",
       "  0.5962964430471991])"
      ]
     },
     "execution_count": 112,
     "metadata": {},
     "output_type": "execute_result"
    }
   ],
   "source": [
    "m, x, b, costs"
   ]
  },
  {
   "cell_type": "code",
   "execution_count": 113,
   "metadata": {},
   "outputs": [],
   "source": [
    "def limit(yhat):\n",
    "    return (yhat >= 0.3).astype(np.int)"
   ]
  },
  {
   "cell_type": "code",
   "execution_count": 114,
   "metadata": {
    "scrolled": true
   },
   "outputs": [
    {
     "name": "stdout",
     "output_type": "stream",
     "text": [
      "The accuracy is: 0.86\n"
     ]
    }
   ],
   "source": [
    "from sklearn.metrics import accuracy_score\n",
    "\n",
    "y_pred = limit(predict(m, x, b))\n",
    "\n",
    "print(\"The accuracy is: \" + str(accuracy_score(y_pred[0], y[0])))"
   ]
  },
  {
   "cell_type": "code",
   "execution_count": null,
   "metadata": {},
   "outputs": [],
   "source": []
  },
  {
   "cell_type": "code",
   "execution_count": 100,
   "metadata": {
    "scrolled": true
   },
   "outputs": [
    {
     "name": "stdout",
     "output_type": "stream",
     "text": [
      "The accuracy is: 0.83\n"
     ]
    }
   ],
   "source": [
    "from sklearn.linear_model import LogisticRegression\n",
    "\n",
    "reg = LogisticRegression().fit(x[0].reshape(-1, 1), y[0])\n",
    "\n",
    "y_pred = reg.predict(x[0].reshape(-1, 1))\n",
    "\n",
    "print(\"The accuracy is: \" + str(accuracy_score(y_pred, y[0])))"
   ]
  },
  {
   "cell_type": "code",
   "execution_count": null,
   "metadata": {},
   "outputs": [],
   "source": []
  }
 ],
 "metadata": {
  "kernelspec": {
   "display_name": "Python 3",
   "language": "python",
   "name": "python3"
  },
  "language_info": {
   "codemirror_mode": {
    "name": "ipython",
    "version": 3
   },
   "file_extension": ".py",
   "mimetype": "text/x-python",
   "name": "python",
   "nbconvert_exporter": "python",
   "pygments_lexer": "ipython3",
   "version": "3.8.2"
  }
 },
 "nbformat": 4,
 "nbformat_minor": 4
}
