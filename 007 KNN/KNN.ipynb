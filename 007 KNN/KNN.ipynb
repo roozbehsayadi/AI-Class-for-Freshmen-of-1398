{
 "cells": [
  {
   "cell_type": "markdown",
   "metadata": {},
   "source": [
    "## Let's do some python coding =D\n",
    "import usefull libraries:"
   ]
  },
  {
   "cell_type": "code",
   "execution_count": 2,
   "metadata": {},
   "outputs": [],
   "source": [
    "import numpy as np\n",
    "import pandas as pd\n",
    "from sklearn import datasets\n",
    "import matplotlib.pyplot as plt"
   ]
  },
  {
   "cell_type": "code",
   "execution_count": 3,
   "metadata": {},
   "outputs": [
    {
     "data": {
      "text/html": [
       "<div>\n",
       "<style scoped>\n",
       "    .dataframe tbody tr th:only-of-type {\n",
       "        vertical-align: middle;\n",
       "    }\n",
       "\n",
       "    .dataframe tbody tr th {\n",
       "        vertical-align: top;\n",
       "    }\n",
       "\n",
       "    .dataframe thead th {\n",
       "        text-align: right;\n",
       "    }\n",
       "</style>\n",
       "<table border=\"1\" class=\"dataframe\">\n",
       "  <thead>\n",
       "    <tr style=\"text-align: right;\">\n",
       "      <th></th>\n",
       "      <th>sepal_length</th>\n",
       "      <th>sepal_width</th>\n",
       "      <th>petal_length</th>\n",
       "      <th>petal_width</th>\n",
       "      <th>class</th>\n",
       "    </tr>\n",
       "  </thead>\n",
       "  <tbody>\n",
       "    <tr>\n",
       "      <th>0</th>\n",
       "      <td>5.1</td>\n",
       "      <td>3.5</td>\n",
       "      <td>1.4</td>\n",
       "      <td>0.2</td>\n",
       "      <td>setosa</td>\n",
       "    </tr>\n",
       "    <tr>\n",
       "      <th>1</th>\n",
       "      <td>4.9</td>\n",
       "      <td>3.0</td>\n",
       "      <td>1.4</td>\n",
       "      <td>0.2</td>\n",
       "      <td>setosa</td>\n",
       "    </tr>\n",
       "    <tr>\n",
       "      <th>2</th>\n",
       "      <td>4.7</td>\n",
       "      <td>3.2</td>\n",
       "      <td>1.3</td>\n",
       "      <td>0.2</td>\n",
       "      <td>setosa</td>\n",
       "    </tr>\n",
       "    <tr>\n",
       "      <th>3</th>\n",
       "      <td>4.6</td>\n",
       "      <td>3.1</td>\n",
       "      <td>1.5</td>\n",
       "      <td>0.2</td>\n",
       "      <td>setosa</td>\n",
       "    </tr>\n",
       "    <tr>\n",
       "      <th>4</th>\n",
       "      <td>5.0</td>\n",
       "      <td>3.6</td>\n",
       "      <td>1.4</td>\n",
       "      <td>0.2</td>\n",
       "      <td>setosa</td>\n",
       "    </tr>\n",
       "  </tbody>\n",
       "</table>\n",
       "</div>"
      ],
      "text/plain": [
       "   sepal_length  sepal_width  petal_length  petal_width   class\n",
       "0           5.1          3.5           1.4          0.2  setosa\n",
       "1           4.9          3.0           1.4          0.2  setosa\n",
       "2           4.7          3.2           1.3          0.2  setosa\n",
       "3           4.6          3.1           1.5          0.2  setosa\n",
       "4           5.0          3.6           1.4          0.2  setosa"
      ]
     },
     "execution_count": 3,
     "metadata": {},
     "output_type": "execute_result"
    }
   ],
   "source": [
    "iris_df = pd.read_csv('iris.csv')\n",
    "iris_df.head(5)"
   ]
  },
  {
   "cell_type": "markdown",
   "metadata": {},
   "source": [
    "We use permutation from np.random to split the data randomly."
   ]
  },
  {
   "cell_type": "code",
   "execution_count": 4,
   "metadata": {},
   "outputs": [
    {
     "data": {
      "text/plain": [
       "array([[6.7, 3.0, 5.2, 2.3, 'virginica'],\n",
       "       [6.8, 3.2, 5.9, 2.3, 'virginica'],\n",
       "       [6.1, 2.6, 5.6, 1.4, 'virginica'],\n",
       "       [7.0, 3.2, 4.7, 1.4, 'versicolor'],\n",
       "       [6.0, 2.7, 5.1, 1.6, 'versicolor']], dtype=object)"
      ]
     },
     "execution_count": 4,
     "metadata": {},
     "output_type": "execute_result"
    }
   ],
   "source": [
    "iris_data = np.random.permutation(iris_df)\n",
    "iris_data[:5]"
   ]
  },
  {
   "cell_type": "code",
   "execution_count": 6,
   "metadata": {},
   "outputs": [
    {
     "data": {
      "text/plain": [
       "array([6.8, 3.2, 5.9, 2.3], dtype=object)"
      ]
     },
     "execution_count": 6,
     "metadata": {},
     "output_type": "execute_result"
    }
   ],
   "source": [
    "X = iris_data[:,:4]\n",
    "y = iris_data[:,4:]\n",
    "X[1,:]"
   ]
  },
  {
   "cell_type": "code",
   "execution_count": 7,
   "metadata": {},
   "outputs": [],
   "source": [
    "# let's split x and make train and test from that\n",
    "\n",
    "boundary = int(len(X) * 0.9)\n",
    "X_train, X_test = X[:boundary], X[boundary:]\n",
    "y_train, y_test = y[:boundary], y[boundary:]"
   ]
  },
  {
   "cell_type": "markdown",
   "metadata": {},
   "source": [
    "Visualizing our data by reducing instance dimensions from 4 to 2 because we can't still see 4D plots in 20th century :)"
   ]
  },
  {
   "cell_type": "code",
   "execution_count": 8,
   "metadata": {},
   "outputs": [
    {
     "data": {
      "image/png": "[encoded data removed]",
      "text/plain": [
       "<Figure size 432x288 with 1 Axes>"
      ]
     },
     "metadata": {
      "needs_background": "light"
     },
     "output_type": "display_data"
    }
   ],
   "source": [
    "to_plot = []\n",
    "counter = 0\n",
    "for iclass in {'setosa', 'versicolor', 'virginica'}:\n",
    "    to_plot.append([[], [], []])\n",
    "    for i in range(len(X_train)):\n",
    "        if y_train[i] == iclass:\n",
    "            to_plot[counter][0].append(sum(X_train[i,0:1]))\n",
    "            to_plot[counter][1].append(sum(X_train[i,2:3]))\n",
    "    counter+=1\n",
    "    \n",
    "to_plot.append([[], [], []])\n",
    "for i in range(len(X_test)):\n",
    "    to_plot[3][0].append(sum(X_test[i,0:1]))\n",
    "    to_plot[3][1].append(sum(X_test[i,2:3]))\n",
    "\n",
    "colors = ('r', 'g', 'y')\n",
    "\n",
    "for iclass in range(3):\n",
    "    plt.scatter(to_plot[iclass][0], to_plot[iclass][1], c=colors[iclass])\n",
    "\n",
    "plt.scatter(to_plot[3][0], to_plot[3][1], marker='x', s=500)\n",
    "plt.show()"
   ]
  },
  {
   "cell_type": "markdown",
   "metadata": {},
   "source": [
    "To determine the similarity between two instances, we need a distance function. In our example, the Euclidean distance is ideal:"
   ]
  },
  {
   "cell_type": "code",
   "execution_count": 9,
   "metadata": {},
   "outputs": [
    {
     "name": "stdout",
     "output_type": "stream",
     "text": [
      "5.0\n",
      "0.7348469228349536\n"
     ]
    }
   ],
   "source": [
    "def distance(instance1, instance2):\n",
    "    instance1 = np.array(instance1)\n",
    "    instance2 = np.array(instance2)\n",
    "    return np.linalg.norm(instance1 - instance2)\n",
    "    \n",
    "\n",
    "print(distance([3, 5], [0, 1]))\n",
    "print(distance(X[0], X[1]))"
   ]
  },
  {
   "cell_type": "markdown",
   "metadata": {},
   "source": [
    "Here it is how norm is calculated:\n",
    "$$\n",
    "||A|| = [ \\sum _{i,j} abs(a_{i,j})^2 ]^ \\frac {1}{2}\n",
    "$$"
   ]
  },
  {
   "cell_type": "markdown",
   "metadata": {},
   "source": [
    "The function 'get_neighbors returns a list with 'k' neighbors, which are closest to the instance 'test_instance':"
   ]
  },
  {
   "cell_type": "code",
   "execution_count": 10,
   "metadata": {},
   "outputs": [],
   "source": [
    " def get_neighbors(X, y, instance, k, distance=distance):\n",
    "    \"\"\"\n",
    "    get_neighors calculates a list of the k nearest neighbors\n",
    "    of an instance.\n",
    "    The list neighbors contains 3-tuples with  \n",
    "    (index, dist, label) where \n",
    "    index    is the index from the X, \n",
    "    dist     is the distance between the test_instance and the \n",
    "             instance X[index]\n",
    "    distance is a reference to a function used to calculate the \n",
    "             distances\n",
    "    \"\"\"\n",
    "    distances = []\n",
    "    for i in range(len(X)):\n",
    "        dist = distance(instance, X[i])\n",
    "        distances.append((X[i], dist, y[i]))\n",
    "    distances.sort(key = lambda x: x[1])\n",
    "    neighbors = distances[:k]\n",
    "    return neighbors"
   ]
  },
  {
   "cell_type": "markdown",
   "metadata": {},
   "source": [
    "We will write a vote function now. This functions uses the class 'Counter' from collections to count the quantity of the classes inside of an instance list. This instance list will be the neighbors of course. The function 'vote' returns the most common class:"
   ]
  },
  {
   "cell_type": "code",
   "execution_count": 11,
   "metadata": {},
   "outputs": [],
   "source": [
    "from collections import Counter\n",
    "\n",
    "def vote(neighbors):\n",
    "    class_counter = Counter()\n",
    "    for neighbor in neighbors:\n",
    "        class_counter[str(neighbor[2])] += 1\n",
    "    return class_counter.most_common()"
   ]
  },
  {
   "cell_type": "markdown",
   "metadata": {},
   "source": [
    "### KNN is completed!"
   ]
  },
  {
   "cell_type": "code",
   "execution_count": 12,
   "metadata": {},
   "outputs": [
    {
     "name": "stdout",
     "output_type": "stream",
     "text": [
      "index:  0 , result of vote:  [(\"['virginica']\", 3)] , label:  ['virginica'] , data:  [6.1 3.0 4.9 1.8]\n",
      "index:  1 , result of vote:  [(\"['virginica']\", 3)] , label:  ['virginica'] , data:  [6.5 3.0 5.2 2.0]\n",
      "index:  2 , result of vote:  [(\"['versicolor']\", 3)] , label:  ['versicolor'] , data:  [5.9 3.0 4.2 1.5]\n",
      "index:  3 , result of vote:  [(\"['setosa']\", 3)] , label:  ['setosa'] , data:  [5.0 3.3 1.4 0.2]\n",
      "index:  4 , result of vote:  [(\"['setosa']\", 3)] , label:  ['setosa'] , data:  [5.0 3.4 1.5 0.2]\n",
      "index:  5 , result of vote:  [(\"['versicolor']\", 3)] , label:  ['versicolor'] , data:  [6.0 2.9 4.5 1.5]\n",
      "index:  6 , result of vote:  [(\"['setosa']\", 3)] , label:  ['setosa'] , data:  [4.8 3.0 1.4 0.3]\n",
      "index:  7 , result of vote:  [(\"['setosa']\", 3)] , label:  ['setosa'] , data:  [4.8 3.0 1.4 0.1]\n",
      "index:  8 , result of vote:  [(\"['versicolor']\", 3)] , label:  ['versicolor'] , data:  [5.4 3.0 4.5 1.5]\n",
      "index:  9 , result of vote:  [(\"['virginica']\", 3)] , label:  ['virginica'] , data:  [7.1 3.0 5.9 2.1]\n",
      "index:  10 , result of vote:  [(\"['setosa']\", 3)] , label:  ['setosa'] , data:  [4.9 3.1 1.5 0.1]\n",
      "index:  11 , result of vote:  [(\"['setosa']\", 3)] , label:  ['setosa'] , data:  [5.7 4.4 1.5 0.4]\n",
      "index:  12 , result of vote:  [(\"['versicolor']\", 3)] , label:  ['versicolor'] , data:  [5.0 2.3 3.3 1.0]\n",
      "index:  13 , result of vote:  [(\"['setosa']\", 3)] , label:  ['setosa'] , data:  [4.4 3.2 1.3 0.2]\n",
      "index:  14 , result of vote:  [(\"['versicolor']\", 3)] , label:  ['versicolor'] , data:  [6.1 2.8 4.0 1.3]\n"
     ]
    }
   ],
   "source": [
    "for i in range(len(X_test)):\n",
    "    neighbors = get_neighbors(X_train,\n",
    "                              y_train,\n",
    "                              X_test[i],\n",
    "                              3,\n",
    "                              distance=distance)\n",
    "    print(\"index: \", i, \n",
    "          \", result of vote: \", vote(neighbors), \n",
    "          \", label: \", y_test[i], \n",
    "          \", data: \", X_test[i])"
   ]
  }
 ],
 "metadata": {
  "kernelspec": {
   "display_name": "Python 3",
   "language": "python",
   "name": "python3"
  },
  "language_info": {
   "codemirror_mode": {
    "name": "ipython",
    "version": 3
   },
   "file_extension": ".py",
   "mimetype": "text/x-python",
   "name": "python",
   "nbconvert_exporter": "python",
   "pygments_lexer": "ipython3",
   "version": "3.8.5"
  }
 },
 "nbformat": 4,
 "nbformat_minor": 4
}
